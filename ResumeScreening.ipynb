{
 "cells": [
  {
   "cell_type": "markdown",
   "metadata": {},
   "source": [
    "## Install needed libraries"
   ]
  },
  {
   "cell_type": "code",
   "execution_count": null,
   "metadata": {},
   "outputs": [],
   "source": [
    "# ! pip install -r requirements.txt"
   ]
  },
  {
   "cell_type": "markdown",
   "metadata": {},
   "source": [
    "## Import libraries"
   ]
  },
  {
   "cell_type": "code",
   "execution_count": 17,
   "metadata": {},
   "outputs": [],
   "source": [
    "import nltk\n",
    "import spacy\n",
    "from textblob import TextBlob\n",
    "import os\n",
    "import shutil"
   ]
  },
  {
   "cell_type": "markdown",
   "metadata": {},
   "source": [
    "# delete jop if resumes less than 50"
   ]
  },
  {
   "cell_type": "code",
   "execution_count": 18,
   "metadata": {},
   "outputs": [
    {
     "name": "stdout",
     "output_type": "stream",
     "text": [
      "ACCOUNTANT => 118\n",
      "ADVOCATE => 118\n",
      "AGRICULTURE => 63\n",
      "APPAREL => 97\n",
      "ARTS => 103\n",
      "AUTOMOBILE => 36\n",
      "Deleted: D:\\ResumeDataset\\dataset\\AUTOMOBILE (contained 36 resumes)\n",
      "AVIATION => 117\n",
      "BANKING => 115\n",
      "BPO => 22\n",
      "Deleted: D:\\ResumeDataset\\dataset\\BPO (contained 22 resumes)\n",
      "BUSINESS-DEVELOPMENT => 120\n",
      "CHEF => 118\n",
      "CONSTRUCTION => 112\n",
      "CONSULTANT => 115\n",
      "DESIGNER => 107\n",
      "DIGITAL-MEDIA => 96\n",
      "ENGINEERING => 118\n",
      "FINANCE => 118\n",
      "FITNESS => 117\n",
      "HEALTHCARE => 115\n",
      "HR => 110\n",
      "INFORMATION-TECHNOLOGY => 120\n",
      "PUBLIC-RELATIONS => 111\n",
      "SALES => 116\n",
      "TEACHER => 102\n"
     ]
    }
   ],
   "source": [
    "dataset_path = r'D:\\ResumeDataset\\dataset'\n",
    "for job in os.listdir(dataset_path):\n",
    "    cvs = os.path.join(dataset_path,job)\n",
    "    cvs_count = len(os.listdir(cvs))\n",
    "    print(f\"{job} => {len(os.listdir(cvs))}\")\n",
    "\n",
    "    if cvs_count < 50:\n",
    "        shutil.rmtree(cvs)  \n",
    "        print(f\"Deleted: {cvs} (contained {cvs_count} resumes)\")"
   ]
  },
  {
   "cell_type": "code",
   "execution_count": 21,
   "metadata": {},
   "outputs": [
    {
     "name": "stdout",
     "output_type": "stream",
     "text": [
      "final Jobs count 22\n"
     ]
    }
   ],
   "source": [
    "Jops = os.listdir(dataset_path)\n",
    "print(f\"final Jobs count {len(Jops)}\")"
   ]
  }
 ],
 "metadata": {
  "kernelspec": {
   "display_name": "Python 3.12.9 ('nlp_env')",
   "language": "python",
   "name": "python3"
  },
  "language_info": {
   "codemirror_mode": {
    "name": "ipython",
    "version": 3
   },
   "file_extension": ".py",
   "mimetype": "text/x-python",
   "name": "python",
   "nbconvert_exporter": "python",
   "pygments_lexer": "ipython3",
   "version": "3.12.9"
  },
  "orig_nbformat": 4,
  "vscode": {
   "interpreter": {
    "hash": "c0b18842a598d85a22df4e7cc15894b982c7a185224accf571198ba97c813097"
   }
  }
 },
 "nbformat": 4,
 "nbformat_minor": 2
}
